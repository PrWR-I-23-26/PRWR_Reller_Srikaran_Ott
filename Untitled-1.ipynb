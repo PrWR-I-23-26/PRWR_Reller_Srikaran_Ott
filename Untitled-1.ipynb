{
 "cells": [
  {
   "cell_type": "code",
   "execution_count": null,
   "metadata": {},
   "outputs": [
    {
     "data": {
      "application/vnd.jupyter.widget-view+json": {
       "model_id": "42ba4fa3b7164fd0858fd8b452fdb79e",
       "version_major": 2,
       "version_minor": 0
      },
      "text/plain": [
       "HTML(value='\\n<style>\\n    .custom-button {\\n        background-color: #007bff;\\n        color: white;\\n      …"
      ]
     },
     "metadata": {},
     "output_type": "display_data"
    },
    {
     "data": {
      "application/vnd.jupyter.widget-view+json": {
       "model_id": "a34926199d7a459b83dc3f84fe6b7c61",
       "version_major": 2,
       "version_minor": 0
      },
      "text/plain": [
       "HBox(children=(Button(description='Europa', layout=Layout(height='40px', width='140px'), style=ButtonStyle(), …"
      ]
     },
     "metadata": {},
     "output_type": "display_data"
    },
    {
     "data": {
      "application/vnd.plotly.v1+json": {
       "config": {
        "plotlyServerURL": "https://plot.ly"
       },
       "data": [
        {
         "hoverinfo": "text",
         "hovertext": [
          "Peru: 0.78€",
          "Argentinien: 0.94€",
          "Chile: 0.97€",
          "Kolumbien: 1.07€",
          "Uruguay: 1.17€",
          "Brasilien: 1.32€",
          "Schweiz: 2.39€"
         ],
         "marker": {
          "color": [
           "#8B00FF",
           "#8B00FF",
           "#8B00FF",
           "#8B00FF",
           "#8B00FF",
           "#8B00FF",
           "#FF0000"
          ],
          "line": {
           "color": "black",
           "width": 1.5
          }
         },
         "orientation": "h",
         "text": [
          "0.78€",
          "0.94€",
          "0.97€",
          "1.07€",
          "1.17€",
          "1.32€",
          "2.39€"
         ],
         "textposition": "auto",
         "type": "bar",
         "x": {
          "bdata": "9ihcj8L16D8UrkfhehTuPwrXo3A9Cu8/H4XrUbge8T+4HoXrUbjyPx+F61G4HvU/H4XrUbgeA0A=",
          "dtype": "f8"
         },
         "y": [
          "Peru - Lima",
          "Argentinien - Buenos Aires",
          "Chile - Santiago",
          "Kolumbien - Bogota",
          "Uruguay - Montevideo",
          "Brasilien - Rio De Janeiro",
          "Schweiz - Zürich"
         ]
        }
       ],
       "layout": {
        "margin": {
         "b": 50,
         "l": 150,
         "r": 50,
         "t": 50
        },
        "showlegend": false,
        "template": {
         "data": {
          "bar": [
           {
            "error_x": {
             "color": "#2a3f5f"
            },
            "error_y": {
             "color": "#2a3f5f"
            },
            "marker": {
             "line": {
              "color": "white",
              "width": 0.5
             },
             "pattern": {
              "fillmode": "overlay",
              "size": 10,
              "solidity": 0.2
             }
            },
            "type": "bar"
           }
          ],
          "barpolar": [
           {
            "marker": {
             "line": {
              "color": "white",
              "width": 0.5
             },
             "pattern": {
              "fillmode": "overlay",
              "size": 10,
              "solidity": 0.2
             }
            },
            "type": "barpolar"
           }
          ],
          "carpet": [
           {
            "aaxis": {
             "endlinecolor": "#2a3f5f",
             "gridcolor": "#C8D4E3",
             "linecolor": "#C8D4E3",
             "minorgridcolor": "#C8D4E3",
             "startlinecolor": "#2a3f5f"
            },
            "baxis": {
             "endlinecolor": "#2a3f5f",
             "gridcolor": "#C8D4E3",
             "linecolor": "#C8D4E3",
             "minorgridcolor": "#C8D4E3",
             "startlinecolor": "#2a3f5f"
            },
            "type": "carpet"
           }
          ],
          "choropleth": [
           {
            "colorbar": {
             "outlinewidth": 0,
             "ticks": ""
            },
            "type": "choropleth"
           }
          ],
          "contour": [
           {
            "colorbar": {
             "outlinewidth": 0,
             "ticks": ""
            },
            "colorscale": [
             [
              0,
              "#0d0887"
             ],
             [
              0.1111111111111111,
              "#46039f"
             ],
             [
              0.2222222222222222,
              "#7201a8"
             ],
             [
              0.3333333333333333,
              "#9c179e"
             ],
             [
              0.4444444444444444,
              "#bd3786"
             ],
             [
              0.5555555555555556,
              "#d8576b"
             ],
             [
              0.6666666666666666,
              "#ed7953"
             ],
             [
              0.7777777777777778,
              "#fb9f3a"
             ],
             [
              0.8888888888888888,
              "#fdca26"
             ],
             [
              1,
              "#f0f921"
             ]
            ],
            "type": "contour"
           }
          ],
          "contourcarpet": [
           {
            "colorbar": {
             "outlinewidth": 0,
             "ticks": ""
            },
            "type": "contourcarpet"
           }
          ],
          "heatmap": [
           {
            "colorbar": {
             "outlinewidth": 0,
             "ticks": ""
            },
            "colorscale": [
             [
              0,
              "#0d0887"
             ],
             [
              0.1111111111111111,
              "#46039f"
             ],
             [
              0.2222222222222222,
              "#7201a8"
             ],
             [
              0.3333333333333333,
              "#9c179e"
             ],
             [
              0.4444444444444444,
              "#bd3786"
             ],
             [
              0.5555555555555556,
              "#d8576b"
             ],
             [
              0.6666666666666666,
              "#ed7953"
             ],
             [
              0.7777777777777778,
              "#fb9f3a"
             ],
             [
              0.8888888888888888,
              "#fdca26"
             ],
             [
              1,
              "#f0f921"
             ]
            ],
            "type": "heatmap"
           }
          ],
          "histogram": [
           {
            "marker": {
             "pattern": {
              "fillmode": "overlay",
              "size": 10,
              "solidity": 0.2
             }
            },
            "type": "histogram"
           }
          ],
          "histogram2d": [
           {
            "colorbar": {
             "outlinewidth": 0,
             "ticks": ""
            },
            "colorscale": [
             [
              0,
              "#0d0887"
             ],
             [
              0.1111111111111111,
              "#46039f"
             ],
             [
              0.2222222222222222,
              "#7201a8"
             ],
             [
              0.3333333333333333,
              "#9c179e"
             ],
             [
              0.4444444444444444,
              "#bd3786"
             ],
             [
              0.5555555555555556,
              "#d8576b"
             ],
             [
              0.6666666666666666,
              "#ed7953"
             ],
             [
              0.7777777777777778,
              "#fb9f3a"
             ],
             [
              0.8888888888888888,
              "#fdca26"
             ],
             [
              1,
              "#f0f921"
             ]
            ],
            "type": "histogram2d"
           }
          ],
          "histogram2dcontour": [
           {
            "colorbar": {
             "outlinewidth": 0,
             "ticks": ""
            },
            "colorscale": [
             [
              0,
              "#0d0887"
             ],
             [
              0.1111111111111111,
              "#46039f"
             ],
             [
              0.2222222222222222,
              "#7201a8"
             ],
             [
              0.3333333333333333,
              "#9c179e"
             ],
             [
              0.4444444444444444,
              "#bd3786"
             ],
             [
              0.5555555555555556,
              "#d8576b"
             ],
             [
              0.6666666666666666,
              "#ed7953"
             ],
             [
              0.7777777777777778,
              "#fb9f3a"
             ],
             [
              0.8888888888888888,
              "#fdca26"
             ],
             [
              1,
              "#f0f921"
             ]
            ],
            "type": "histogram2dcontour"
           }
          ],
          "mesh3d": [
           {
            "colorbar": {
             "outlinewidth": 0,
             "ticks": ""
            },
            "type": "mesh3d"
           }
          ],
          "parcoords": [
           {
            "line": {
             "colorbar": {
              "outlinewidth": 0,
              "ticks": ""
             }
            },
            "type": "parcoords"
           }
          ],
          "pie": [
           {
            "automargin": true,
            "type": "pie"
           }
          ],
          "scatter": [
           {
            "fillpattern": {
             "fillmode": "overlay",
             "size": 10,
             "solidity": 0.2
            },
            "type": "scatter"
           }
          ],
          "scatter3d": [
           {
            "line": {
             "colorbar": {
              "outlinewidth": 0,
              "ticks": ""
             }
            },
            "marker": {
             "colorbar": {
              "outlinewidth": 0,
              "ticks": ""
             }
            },
            "type": "scatter3d"
           }
          ],
          "scattercarpet": [
           {
            "marker": {
             "colorbar": {
              "outlinewidth": 0,
              "ticks": ""
             }
            },
            "type": "scattercarpet"
           }
          ],
          "scattergeo": [
           {
            "marker": {
             "colorbar": {
              "outlinewidth": 0,
              "ticks": ""
             }
            },
            "type": "scattergeo"
           }
          ],
          "scattergl": [
           {
            "marker": {
             "colorbar": {
              "outlinewidth": 0,
              "ticks": ""
             }
            },
            "type": "scattergl"
           }
          ],
          "scattermap": [
           {
            "marker": {
             "colorbar": {
              "outlinewidth": 0,
              "ticks": ""
             }
            },
            "type": "scattermap"
           }
          ],
          "scattermapbox": [
           {
            "marker": {
             "colorbar": {
              "outlinewidth": 0,
              "ticks": ""
             }
            },
            "type": "scattermapbox"
           }
          ],
          "scatterpolar": [
           {
            "marker": {
             "colorbar": {
              "outlinewidth": 0,
              "ticks": ""
             }
            },
            "type": "scatterpolar"
           }
          ],
          "scatterpolargl": [
           {
            "marker": {
             "colorbar": {
              "outlinewidth": 0,
              "ticks": ""
             }
            },
            "type": "scatterpolargl"
           }
          ],
          "scatterternary": [
           {
            "marker": {
             "colorbar": {
              "outlinewidth": 0,
              "ticks": ""
             }
            },
            "type": "scatterternary"
           }
          ],
          "surface": [
           {
            "colorbar": {
             "outlinewidth": 0,
             "ticks": ""
            },
            "colorscale": [
             [
              0,
              "#0d0887"
             ],
             [
              0.1111111111111111,
              "#46039f"
             ],
             [
              0.2222222222222222,
              "#7201a8"
             ],
             [
              0.3333333333333333,
              "#9c179e"
             ],
             [
              0.4444444444444444,
              "#bd3786"
             ],
             [
              0.5555555555555556,
              "#d8576b"
             ],
             [
              0.6666666666666666,
              "#ed7953"
             ],
             [
              0.7777777777777778,
              "#fb9f3a"
             ],
             [
              0.8888888888888888,
              "#fdca26"
             ],
             [
              1,
              "#f0f921"
             ]
            ],
            "type": "surface"
           }
          ],
          "table": [
           {
            "cells": {
             "fill": {
              "color": "#EBF0F8"
             },
             "line": {
              "color": "white"
             }
            },
            "header": {
             "fill": {
              "color": "#C8D4E3"
             },
             "line": {
              "color": "white"
             }
            },
            "type": "table"
           }
          ]
         },
         "layout": {
          "annotationdefaults": {
           "arrowcolor": "#2a3f5f",
           "arrowhead": 0,
           "arrowwidth": 1
          },
          "autotypenumbers": "strict",
          "coloraxis": {
           "colorbar": {
            "outlinewidth": 0,
            "ticks": ""
           }
          },
          "colorscale": {
           "diverging": [
            [
             0,
             "#8e0152"
            ],
            [
             0.1,
             "#c51b7d"
            ],
            [
             0.2,
             "#de77ae"
            ],
            [
             0.3,
             "#f1b6da"
            ],
            [
             0.4,
             "#fde0ef"
            ],
            [
             0.5,
             "#f7f7f7"
            ],
            [
             0.6,
             "#e6f5d0"
            ],
            [
             0.7,
             "#b8e186"
            ],
            [
             0.8,
             "#7fbc41"
            ],
            [
             0.9,
             "#4d9221"
            ],
            [
             1,
             "#276419"
            ]
           ],
           "sequential": [
            [
             0,
             "#0d0887"
            ],
            [
             0.1111111111111111,
             "#46039f"
            ],
            [
             0.2222222222222222,
             "#7201a8"
            ],
            [
             0.3333333333333333,
             "#9c179e"
            ],
            [
             0.4444444444444444,
             "#bd3786"
            ],
            [
             0.5555555555555556,
             "#d8576b"
            ],
            [
             0.6666666666666666,
             "#ed7953"
            ],
            [
             0.7777777777777778,
             "#fb9f3a"
            ],
            [
             0.8888888888888888,
             "#fdca26"
            ],
            [
             1,
             "#f0f921"
            ]
           ],
           "sequentialminus": [
            [
             0,
             "#0d0887"
            ],
            [
             0.1111111111111111,
             "#46039f"
            ],
            [
             0.2222222222222222,
             "#7201a8"
            ],
            [
             0.3333333333333333,
             "#9c179e"
            ],
            [
             0.4444444444444444,
             "#bd3786"
            ],
            [
             0.5555555555555556,
             "#d8576b"
            ],
            [
             0.6666666666666666,
             "#ed7953"
            ],
            [
             0.7777777777777778,
             "#fb9f3a"
            ],
            [
             0.8888888888888888,
             "#fdca26"
            ],
            [
             1,
             "#f0f921"
            ]
           ]
          },
          "colorway": [
           "#636efa",
           "#EF553B",
           "#00cc96",
           "#ab63fa",
           "#FFA15A",
           "#19d3f3",
           "#FF6692",
           "#B6E880",
           "#FF97FF",
           "#FECB52"
          ],
          "font": {
           "color": "#2a3f5f"
          },
          "geo": {
           "bgcolor": "white",
           "lakecolor": "white",
           "landcolor": "white",
           "showlakes": true,
           "showland": true,
           "subunitcolor": "#C8D4E3"
          },
          "hoverlabel": {
           "align": "left"
          },
          "hovermode": "closest",
          "mapbox": {
           "style": "light"
          },
          "paper_bgcolor": "white",
          "plot_bgcolor": "white",
          "polar": {
           "angularaxis": {
            "gridcolor": "#EBF0F8",
            "linecolor": "#EBF0F8",
            "ticks": ""
           },
           "bgcolor": "white",
           "radialaxis": {
            "gridcolor": "#EBF0F8",
            "linecolor": "#EBF0F8",
            "ticks": ""
           }
          },
          "scene": {
           "xaxis": {
            "backgroundcolor": "white",
            "gridcolor": "#DFE8F3",
            "gridwidth": 2,
            "linecolor": "#EBF0F8",
            "showbackground": true,
            "ticks": "",
            "zerolinecolor": "#EBF0F8"
           },
           "yaxis": {
            "backgroundcolor": "white",
            "gridcolor": "#DFE8F3",
            "gridwidth": 2,
            "linecolor": "#EBF0F8",
            "showbackground": true,
            "ticks": "",
            "zerolinecolor": "#EBF0F8"
           },
           "zaxis": {
            "backgroundcolor": "white",
            "gridcolor": "#DFE8F3",
            "gridwidth": 2,
            "linecolor": "#EBF0F8",
            "showbackground": true,
            "ticks": "",
            "zerolinecolor": "#EBF0F8"
           }
          },
          "shapedefaults": {
           "line": {
            "color": "#2a3f5f"
           }
          },
          "ternary": {
           "aaxis": {
            "gridcolor": "#DFE8F3",
            "linecolor": "#A2B1C6",
            "ticks": ""
           },
           "baxis": {
            "gridcolor": "#DFE8F3",
            "linecolor": "#A2B1C6",
            "ticks": ""
           },
           "bgcolor": "white",
           "caxis": {
            "gridcolor": "#DFE8F3",
            "linecolor": "#A2B1C6",
            "ticks": ""
           }
          },
          "title": {
           "x": 0.05
          },
          "xaxis": {
           "automargin": true,
           "gridcolor": "#EBF0F8",
           "linecolor": "#EBF0F8",
           "ticks": "",
           "title": {
            "standoff": 15
           },
           "zerolinecolor": "#EBF0F8",
           "zerolinewidth": 2
          },
          "yaxis": {
           "automargin": true,
           "gridcolor": "#EBF0F8",
           "linecolor": "#EBF0F8",
           "ticks": "",
           "title": {
            "standoff": 15
           },
           "zerolinecolor": "#EBF0F8",
           "zerolinewidth": 2
          }
         }
        },
        "title": {
         "text": "Wasserpreis in Südamerika"
        },
        "xaxis": {
         "title": {
          "text": "Preis (€)"
         }
        },
        "yaxis": {
         "autorange": "reversed",
         "title": {
          "text": "Land - Stadt"
         }
        }
       }
      }
     },
     "metadata": {},
     "output_type": "display_data"
    }
   ],
   "source": [
    "import pandas as pd\n",
    "import plotly.graph_objects as go\n",
    "import plotly.io as pio\n",
    "from ipywidgets import widgets, HTML\n",
    "from IPython.display import display, clear_output\n",
    "\n",
    "# CSV-Datei laden\n",
    "df = pd.read_csv('Sheet 1.csv')\n",
    "\n",
    "# Nur relevante Spalten auswählen\n",
    "df = df.iloc[:, [1, 2, 5]]  # Spalten: Land, Stadt, Preis\n",
    "df.columns = ['Land', 'Stadt', 'Preis']\n",
    "\n",
    "# Preis bereinigen\n",
    "df['Preis'] = df['Preis'].astype(str).str.replace('€', '', regex=True).str.replace(',', '.', regex=True)\n",
    "df['Preis'] = df['Preis'].str.extract(r'(\\d+\\.\\d+|\\d+)')\n",
    "df['Preis'] = pd.to_numeric(df['Preis'], errors='coerce')\n",
    "\n",
    "df.dropna(subset=['Land', 'Stadt', 'Preis'], inplace=True)\n",
    "\n",
    "# Länder den Kontinenten zuordnen\n",
    "kontinente = {\n",
    "    \"Europa\": [\"Norwegen\", \"Schweden\", \"Finnland\", \"Irland\", \"Deutschland\", \"Frankreich\", \"Spanien\", \"Schweiz\"],\n",
    "    \"Nordamerika\": [\"USA\", \"Kanada\", \"Puerto Rico\", \"Mexiko\", \"Costa Rica\", \"Panama\", \"Dominikanische Republik\", \"Schweiz\"],\n",
    "    \"Südamerika\": [\"Brasilien\", \"Chile\", \"Argentinien\", \"Uruguay\", \"Peru\", \"Kolumbien\", \"Ecuador\", \"Schweiz\"],\n",
    "    \"Asien\": [\"Israel\", \"Singapur\", \"Japan\", \"China\", \"Indien\", \"Südkorea\", \"Indonesien\", \"Schweiz\"],\n",
    "    \"Afrika\": [\"Südafrika\", \"Ägypten\", \"Marokko\", \"Kenia\", \"Nigeria\", \"Ghana\", \"Tansania\", \"Schweiz\"],\n",
    "    \"Ozeanien\": [\"Australien\", \"Neuseeland\", \"Fidschi\", \"Papua-Neuguinea\", \"Samoa\", \"Tonga\", \"Vanuatu\", \"Schweiz\"]\n",
    "}\n",
    "\n",
    "farben = {\"Europa\": \"#1f77b4\", \"Nordamerika\": \"#2ca02c\", \"Südamerika\": \"#8B00FF\", \"Asien\": \"#ff7f0e\", \"Afrika\": \"#000000\", \"Ozeanien\": \"#17becf\"}\n",
    "farbe_schweiz = \"#FF0000\"\n",
    "\n",
    "def zeige_diagramm(kontinent):\n",
    "    clear_output(wait=True)\n",
    "    display(html_style, buttons_container)\n",
    "    \n",
    "    df_kontinent = df[df['Land'].isin(kontinente[kontinent])]\n",
    "    if df_kontinent.empty:\n",
    "        print(f\"Keine Daten für {kontinent}\")\n",
    "        return\n",
    "    \n",
    "    df_kontinent = df_kontinent.drop_duplicates(subset=['Land'])\n",
    "    if len(df_kontinent) < 5:\n",
    "        fehlende = 5 - len(df_kontinent)\n",
    "        weitere_laender = [land for land in kontinente[kontinent] if land not in df_kontinent['Land'].values]\n",
    "        df_zusatz = df[df['Land'].isin(weitere_laender)].drop_duplicates(subset=['Land']).head(fehlende)\n",
    "        df_kontinent = pd.concat([df_kontinent, df_zusatz])\n",
    "    \n",
    "    df_kontinent['Land_Stadt'] = df_kontinent['Land'] + \" - \" + df_kontinent['Stadt']\n",
    "    df_kontinent = df_kontinent.sort_values(by='Preis', ascending=True)\n",
    "    bar_colors = [farbe_schweiz if land == \"Schweiz\" else farben[kontinent] for land in df_kontinent['Land']]\n",
    "    \n",
    "    fig = go.Figure()\n",
    "    fig.add_trace(go.Bar(\n",
    "        x=df_kontinent['Preis'],\n",
    "        y=df_kontinent['Land_Stadt'],\n",
    "        marker=dict(color=bar_colors, line=dict(width=1.5, color='black')),\n",
    "        orientation='h',\n",
    "        text=[f\"{preis:.2f}€\" for preis in df_kontinent['Preis']],\n",
    "        textposition='auto',\n",
    "        hoverinfo='text',\n",
    "        hovertext=[f\"{land}: {preis:.2f}€\" for land, preis in zip(df_kontinent['Land'], df_kontinent['Preis'])]\n",
    "    ))\n",
    "    \n",
    "    fig.update_layout(\n",
    "        title=f'Wasserpreis in {kontinent}',\n",
    "        xaxis_title='Preis (€)',\n",
    "        yaxis_title='Land - Stadt',\n",
    "        yaxis=dict(autorange=\"reversed\"),\n",
    "        template='plotly_white',\n",
    "        showlegend=False,\n",
    "        margin=dict(l=150, r=50, t=50, b=50)\n",
    "    )\n",
    "    fig.show()\n",
    "\n",
    "# Hover-Effekt für Buttons mit CSS\n",
    "html_style = HTML(\"\"\"\n",
    "<style>\n",
    "    .custom-button {\n",
    "        background-color: #007bff;\n",
    "        color: white;\n",
    "        border: none;\n",
    "        padding: 12px 20px;\n",
    "        font-size: 14px;\n",
    "        cursor: pointer;\n",
    "        transition: 0.3s;\n",
    "        border-radius: 5px;\n",
    "        margin-right: 5px;\n",
    "        text-align: center;\n",
    "    }\n",
    "    .custom-button:hover {\n",
    "        background-color: #0056b3;\n",
    "        transform: scale(1.1);\n",
    "    }\n",
    "</style>\n",
    "\"\"\")\n",
    "\n",
    "def create_button(kontinent):\n",
    "    button = widgets.Button(description=kontinent, layout=widgets.Layout(width='140px', height='40px'))\n",
    "    button.add_class(\"custom-button\")  # Füge die CSS-Klasse hinzu\n",
    "    button.on_click(lambda b, k=kontinent: zeige_diagramm(k))\n",
    "    return button\n",
    "\n",
    "buttons_container = widgets.HBox([create_button(k) for k in kontinente])\n",
    "display(html_style, buttons_container)\n"
   ]
  }
 ],
 "metadata": {
  "kernelspec": {
   "display_name": "Python 3",
   "language": "python",
   "name": "python3"
  },
  "language_info": {
   "codemirror_mode": {
    "name": "ipython",
    "version": 3
   },
   "file_extension": ".py",
   "mimetype": "text/x-python",
   "name": "python",
   "nbconvert_exporter": "python",
   "pygments_lexer": "ipython3",
   "version": "3.13.2"
  }
 },
 "nbformat": 4,
 "nbformat_minor": 2
}
